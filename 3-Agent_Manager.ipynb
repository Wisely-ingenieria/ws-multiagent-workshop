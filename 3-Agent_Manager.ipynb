{
 "cells": [
  {
   "cell_type": "markdown",
   "metadata": {},
   "source": [
    "# 3- Administrador de agentes"
   ]
  },
  {
   "cell_type": "markdown",
   "metadata": {},
   "source": [
    "Este código permite la creación de un sistema para gestionar y coordinar diferentes agentes. En el ejemplo se muestra la capacidad del coordinador para escoger el mejor agente para realizar una tarea especifica.\n",
    "\n",
    "Esencialmente, `AgentManager` actúa como un coordinador, interpretando los mensajes de los usuarios, eligiendo el agente más adecuado para responder a esa solicitud, y pasando el mensaje a ese agente para su procesamiento. También gestiona cualquier interacción subsiguiente entre los agentes y el usuario, manejando la memoria compartida del diálogo para mantener un contexto coherente durante la conversación."
   ]
  },
  {
   "cell_type": "markdown",
   "metadata": {},
   "source": [
    "## 3.1 - Importaciones y configuraciones"
   ]
  },
  {
   "cell_type": "code",
   "execution_count": 1,
   "metadata": {},
   "outputs": [],
   "source": [
    "import os\n",
    "from typing import Optional\n",
    "from openai import OpenAI\n",
    "from dotenv import load_dotenv\n",
    "from abc import ABC, abstractmethod\n",
    "import json\n",
    "from exec_code import execute_code, extract_code_from_string\n",
    "from prompt import CODE_DEVELOPER_SYSTEMPROMPT, DOCUMENTATION_DEVELOPER_SYSTEMPROMPT, COORDINATOR_SYSTEMPROMPT\n",
    "\n",
    "load_dotenv()\n",
    "\n",
    "client = OpenAI()"
   ]
  },
  {
   "cell_type": "markdown",
   "metadata": {},
   "source": [
    "## 3.2 - Definición de clases"
   ]
  },
  {
   "cell_type": "code",
   "execution_count": 2,
   "metadata": {},
   "outputs": [],
   "source": [
    "class Agent(ABC):\n",
    "    \n",
    "    def __init__(self, \n",
    "        model: Optional[str] = None, \n",
    "        system_prompt: Optional[str] = None\n",
    "    ) -> None:\n",
    "        \n",
    "        model = model if model else os.getenv(\"OPENAI_DEFAULT_MODEL\")\n",
    "        \n",
    "        self.memory = []\n",
    "        self.model = model\n",
    "        \n",
    "        if system_prompt:\n",
    "            self.memory.append({\"role\": \"system\", \"content\": system_prompt})\n",
    "    \n",
    "    def add_to_memory(self, role, message):\n",
    "        self.memory.append({\"role\": role, \"content\": message})\n",
    "\n",
    "    def get_schema(self):\n",
    "        return self.function\n",
    "        \n",
    "    @abstractmethod\n",
    "    def run(self,prompt):\n",
    "        \"\"\"User must define this method. Run the agent\"\"\"\n",
    "    \n",
    "class ConversationAgent(Agent):\n",
    "    \n",
    "    def __init__(self, \n",
    "        model: Optional[str] = None, \n",
    "        system_prompt: Optional[str] = None,\n",
    "        agent_name: Optional[str] = None,\n",
    "        description: Optional[str] = None\n",
    "    ) -> None:\n",
    "        super().__init__(model,system_prompt)\n",
    "\n",
    "        self.agent_name = agent_name\n",
    "        self.description = description\n",
    "\n",
    "        self.function={\n",
    "            \"name\": self.agent_name,\n",
    "            \"description\": self.description,\n",
    "            \"parameters\": {\n",
    "                \"type\": \"object\",\n",
    "                \"properties\": {\n",
    "                    \"user_prompt\": {\n",
    "                        \"type\": \"string\",\n",
    "                        \"description\": \"User prompt to the agent\"\n",
    "                    }\n",
    "                },\n",
    "                \"required\": [\"user_query\"]\n",
    "            }\n",
    "        }\n",
    "        \n",
    "    def run(self,prompt):\n",
    "\n",
    "        self.add_to_memory(\"user\", prompt)\n",
    "        completion=''\n",
    "        stream = client.chat.completions.create(\n",
    "            messages=self.memory,\n",
    "            model=self.model,\n",
    "            stream=True\n",
    "        )\n",
    "        print(f\"\\n{self.agent_name}:\")\n",
    "        for chunk in stream:\n",
    "            text_chunk=chunk.choices[0].delta.content\n",
    "            if text_chunk:\n",
    "                completion+=text_chunk\n",
    "                print(text_chunk, end='', flush=True)\n",
    "        \n",
    "        self.add_to_memory(\"assistant\", completion)\n",
    "        \n",
    "        return completion"
   ]
  },
  {
   "cell_type": "markdown",
   "metadata": {},
   "source": [
    "## 3.3 - Configuración del AgentManager"
   ]
  },
  {
   "cell_type": "markdown",
   "metadata": {},
   "source": [
    "El `AgentManager` es una clase que hereda de la clase abstracta `Agent`. Esta clase está diseñada para orquestar y manejar las interacciones entre varios agentes conversacionales, como `CodeDeveloper`, `ImproveDeveloper` y `DocumentationDeveloper`. Cada uno de estos agentes tiene funciones especializadas, como generación de código, diseño de interfaces de usuario, y creación de documentación, respectivamente.\n",
    "\n",
    "Aquí están los elementos clave de la clase `AgentManager`:\n",
    "\n",
    "- **run**: El método `run` es donde se lleva a cabo la lógica principal del `AgentManager`. Cuando se llama a `run` con un mensaje de usuario:\n",
    "  1. Añade el mensaje a la memoria del `AgentManager`.\n",
    "  2. Decide cuál de los agentes debe manejar esta solicitud basándose en su comprensión del mensaje y la lista de agentes disponibles.\n",
    "  3. Basándose en esta información, selecciona el agente adecuado y le pasa la solicitud.\n",
    "  4. El método continúa y ejecuta el agente seleccionado, esperando su respuesta. Si la respuesta contiene código para ejecutar, intenta ejecutar este código."
   ]
  },
  {
   "cell_type": "code",
   "execution_count": 3,
   "metadata": {},
   "outputs": [],
   "source": [
    "\n",
    "\n",
    "class AgentManager(Agent):\n",
    "    \n",
    "    def __init__(self, \n",
    "        model: Optional[str] = None, \n",
    "        system_prompt: Optional[str] = None,\n",
    "        list_agents: Optional[list] = None\n",
    "    ) -> None:\n",
    "        super().__init__(model,system_prompt)\n",
    "        \n",
    "        self.list_agents=list_agents\n",
    "    \n",
    "    \n",
    "    def get_agent_list_schemas(self):\n",
    "        return [agent.get_schema() for agent in self.list_agents]   \n",
    "    \n",
    "    def run(self,prompt):\n",
    "        \n",
    "        print(f\"----------------- RUN MANAGER -----------------\")\n",
    "        print(f\"User: {prompt}\")\n",
    "                            \n",
    "        # Choose what agent i have to execute to resolve the problem (Select speaker)\n",
    "        ######################################\n",
    "        messages = self.memory + [{\"role\": \"user\", \"content\": f\"[PROMPT]\\n{prompt}\\n\\n[AGENTS]\\n{self.get_agent_list_schemas()}\"}]\n",
    "        chat_completion = client.chat.completions.create(\n",
    "            messages=messages,\n",
    "            model=self.model,\n",
    "            functions=self.get_agent_list_schemas()\n",
    "        )\n",
    "                \n",
    "        # Get the agent to execute\n",
    "        agent_name=chat_completion.choices[0].message.function_call.name\n",
    "        agent_prompt=json.loads(chat_completion.choices[0].message.function_call.arguments)['user_prompt']\n",
    "         \n",
    "        #get the class agent to execute\n",
    "        class_agent = next((agent for agent in self.list_agents if agent.agent_name == agent_name), None)\n",
    "        \n",
    "        # Save agents and remove the agent choosen to another list. It is use to store memory in the future in all agents without the agent choosen\n",
    "        other_agents = [agent for agent in self.list_agents if agent.agent_name != agent_name]\n",
    "        \n",
    "        # Add the prompt to the agent manager memory and the others agents\n",
    "        ######################################\n",
    "        self.add_to_memory(\"user\", prompt)\n",
    "        # add memory to others agents\n",
    "        for agent in self.list_agents:\n",
    "            agent.add_to_memory(\"user\", agent_prompt)\n",
    "            \n",
    "        #Execute the algorithm\n",
    "        ######################################\n",
    "        for i in range(3):\n",
    "            \n",
    "            # # Run agent\n",
    "            ######################################\n",
    "            response_agent=class_agent.run(f\"{class_agent.agent_name}: {agent_prompt}\")\n",
    "            # add memory to others agents\n",
    "            for agent in other_agents:\n",
    "                agent.add_to_memory(\"user\", f\"{class_agent.agent_name}: {agent_prompt}\")\n",
    "            \n",
    "            # if we have code to execute, execute it\n",
    "            ######################################\n",
    "            code_to_execute = extract_code_from_string(response_agent)\n",
    "            if code_to_execute:\n",
    "                try:\n",
    "                    print(\"Executing code...\")\n",
    "                    exec_response = execute_code(code_to_execute,use_docker=False)\n",
    "                    if exec_response[0] == 0:\n",
    "                        print(f\"Code executed successfully\")\n",
    "                        break\n",
    "                    else:\n",
    "                        print(f\"The code: {code_to_execute}.\\n\\nError executing code: {exec_response[1]}\")\n",
    "                        agent_prompt=f\"\\n\\nError executing code: {exec_response[1]}\"\n",
    "                except Exception as e:\n",
    "                    print(f\"The code: {code_to_execute}.\\n\\nError executing code: {e}\")\n",
    "                    agent_prompt=f\"\\n\\nError executing code: {e}\"\n",
    "            else:\n",
    "                print(f\"No code found to execute.\")\n",
    "                agent_prompt=f\"\\n\\nNo code found to execute.\"\n",
    "        \n",
    "        # Add the response from the agent manager to the memory\n",
    "        ######################################\n",
    "        self.add_to_memory(\"assistant\", response_agent)\n",
    "                \n",
    "        return response_agent"
   ]
  },
  {
   "cell_type": "markdown",
   "metadata": {},
   "source": [
    "## 3.4 - Configuración de los agentes"
   ]
  },
  {
   "cell_type": "markdown",
   "metadata": {},
   "source": [
    "Los tres agentes, `CodeDeveloper`, `ImproveDeveloper` y `DocumentationDeveloper`, son subclases especializadas de `ConversationAgent`, cada una equipada para manejar diferentes tipos de solicitudes mediante el `system_prompt` que se haya configurado:\n",
    "\n",
    "- **CodeDeveloper**: Genera código en respuesta a problemas o solicitudes de programación proporcionados por el usuario. Su propósito es interactuar con los usuarios que necesitan asistencia en la creación de scripts o software.\n",
    "\n",
    "- **ImproveDeveloper**: Atiende solicitudes relacionadas con el el mejoramiento diseño. Este agente ofrece soluciones o propuestas de diseño para que las interfaces sean más efectivas y atractivas.\n",
    "\n",
    "- **DocumentationDeveloper**: Se especializa en la creación de documentación para código o proyectos de software. Este agente ayuda a los usuarios a redactar una documentación clara y comprensible, importante para cualquier proyecto de desarrollo.\n",
    "\n",
    "- **AgentManager**: Es el coordinador central que gestiona qué agente, desde su listado de agentes, debe responder a una solicitud específica. Interpreta los mensajes del usuario, selecciona al agente más adecuado basándose en la naturaleza del mensaje y la especialización del agente, y redirige la solicitud a ese agente para su procesamiento."
   ]
  },
  {
   "cell_type": "code",
   "execution_count": 4,
   "metadata": {},
   "outputs": [],
   "source": [
    "CodeDeveloper=ConversationAgent(\n",
    "    model=\"gpt-4-1106-preview\",\n",
    "    agent_name=\"CodeDeveloper\",\n",
    "    description=\"Agent to create code in python\",\n",
    "    system_prompt=CODE_DEVELOPER_SYSTEMPROMPT\n",
    ")\n",
    "\n",
    "ImproveDeveloper=ConversationAgent(\n",
    "    model=\"gpt-4-1106-preview\",\n",
    "    agent_name=\"ImproveDeveloper\",\n",
    "    description=\"Agent to resolve improvements in python\",\n",
    "    system_prompt=CODE_DEVELOPER_SYSTEMPROMPT\n",
    ")\n",
    "\n",
    "DocumentationDeveloper=ConversationAgent(\n",
    "    model=\"gpt-4-1106-preview\",\n",
    "    agent_name=\"DocumentationDeveloper\",\n",
    "    description=\"Agent to document code\",\n",
    "    system_prompt=DOCUMENTATION_DEVELOPER_SYSTEMPROMPT\n",
    ")\n",
    "\n",
    "# Manager Agents\n",
    "manager=AgentManager(\n",
    "    model=\"gpt-4-1106-preview\",\n",
    "    list_agents=[\n",
    "        CodeDeveloper,\n",
    "        DocumentationDeveloper,\n",
    "        ImproveDeveloper\n",
    "    ],\n",
    "    system_prompt=COORDINATOR_SYSTEMPROMPT\n",
    ")"
   ]
  },
  {
   "cell_type": "markdown",
   "metadata": {},
   "source": [
    "## 2.5- Ejecutar"
   ]
  },
  {
   "cell_type": "code",
   "execution_count": 5,
   "metadata": {},
   "outputs": [
    {
     "name": "stdout",
     "output_type": "stream",
     "text": [
      "----------------- RUN MANAGER -----------------\n",
      "User: Create a code for a face detector using my camera, show me it in display and it must run by 30 sec and end.\n"
     ]
    },
    {
     "ename": "UnboundLocalError",
     "evalue": "cannot access local variable 'agent_prompt' where it is not associated with a value",
     "output_type": "error",
     "traceback": [
      "\u001b[1;31m---------------------------------------------------------------------------\u001b[0m",
      "\u001b[1;31mUnboundLocalError\u001b[0m                         Traceback (most recent call last)",
      "\u001b[1;32mc:\\Users\\ismae\\Desktop\\GIT\\wisely\\ai_wisely\\ws-multiagent-workshop\\3-agent_manager.ipynb Cell 14\u001b[0m line \u001b[0;36m1\n\u001b[1;32m----> <a href='vscode-notebook-cell:/c%3A/Users/ismae/Desktop/GIT/wisely/ai_wisely/ws-multiagent-workshop/3-agent_manager.ipynb#X16sZmlsZQ%3D%3D?line=0'>1</a>\u001b[0m manager\u001b[39m.\u001b[39;49mrun(\u001b[39m\"\u001b[39;49m\u001b[39mCreate a code for a face detector using my camera, show me it in display and it must run by 30 sec and end.\u001b[39;49m\u001b[39m\"\u001b[39;49m)\n",
      "\u001b[1;32mc:\\Users\\ismae\\Desktop\\GIT\\wisely\\ai_wisely\\ws-multiagent-workshop\\3-agent_manager.ipynb Cell 14\u001b[0m line \u001b[0;36m2\n\u001b[0;32m     <a href='vscode-notebook-cell:/c%3A/Users/ismae/Desktop/GIT/wisely/ai_wisely/ws-multiagent-workshop/3-agent_manager.ipynb#X16sZmlsZQ%3D%3D?line=24'>25</a>\u001b[0m \u001b[39m# add memory to others agents\u001b[39;00m\n\u001b[0;32m     <a href='vscode-notebook-cell:/c%3A/Users/ismae/Desktop/GIT/wisely/ai_wisely/ws-multiagent-workshop/3-agent_manager.ipynb#X16sZmlsZQ%3D%3D?line=25'>26</a>\u001b[0m \u001b[39mfor\u001b[39;00m agent \u001b[39min\u001b[39;00m \u001b[39mself\u001b[39m\u001b[39m.\u001b[39mlist_agents:\n\u001b[1;32m---> <a href='vscode-notebook-cell:/c%3A/Users/ismae/Desktop/GIT/wisely/ai_wisely/ws-multiagent-workshop/3-agent_manager.ipynb#X16sZmlsZQ%3D%3D?line=26'>27</a>\u001b[0m     agent\u001b[39m.\u001b[39madd_to_memory(\u001b[39m\"\u001b[39m\u001b[39muser\u001b[39m\u001b[39m\"\u001b[39m, agent_prompt)\n\u001b[0;32m     <a href='vscode-notebook-cell:/c%3A/Users/ismae/Desktop/GIT/wisely/ai_wisely/ws-multiagent-workshop/3-agent_manager.ipynb#X16sZmlsZQ%3D%3D?line=28'>29</a>\u001b[0m \u001b[39m# Choose what agent i have to execute to resolve the problem (Select speaker)\u001b[39;00m\n\u001b[0;32m     <a href='vscode-notebook-cell:/c%3A/Users/ismae/Desktop/GIT/wisely/ai_wisely/ws-multiagent-workshop/3-agent_manager.ipynb#X16sZmlsZQ%3D%3D?line=29'>30</a>\u001b[0m \u001b[39m######################################\u001b[39;00m\n\u001b[0;32m     <a href='vscode-notebook-cell:/c%3A/Users/ismae/Desktop/GIT/wisely/ai_wisely/ws-multiagent-workshop/3-agent_manager.ipynb#X16sZmlsZQ%3D%3D?line=30'>31</a>\u001b[0m messages \u001b[39m=\u001b[39m \u001b[39mself\u001b[39m\u001b[39m.\u001b[39mmemory \u001b[39m+\u001b[39m [{\u001b[39m\"\u001b[39m\u001b[39mrole\u001b[39m\u001b[39m\"\u001b[39m: \u001b[39m\"\u001b[39m\u001b[39muser\u001b[39m\u001b[39m\"\u001b[39m, \u001b[39m\"\u001b[39m\u001b[39mcontent\u001b[39m\u001b[39m\"\u001b[39m: \u001b[39mf\u001b[39m\u001b[39m\"\u001b[39m\u001b[39m[PROMPT]\u001b[39m\u001b[39m\\n\u001b[39;00m\u001b[39m{\u001b[39;00mprompt\u001b[39m}\u001b[39;00m\u001b[39m\\n\u001b[39;00m\u001b[39m\\n\u001b[39;00m\u001b[39m[AGENTS]\u001b[39m\u001b[39m\\n\u001b[39;00m\u001b[39m{\u001b[39;00m\u001b[39mself\u001b[39m\u001b[39m.\u001b[39mget_agent_list_schemas()\u001b[39m}\u001b[39;00m\u001b[39m\"\u001b[39m}]\n",
      "\u001b[1;31mUnboundLocalError\u001b[0m: cannot access local variable 'agent_prompt' where it is not associated with a value"
     ]
    }
   ],
   "source": [
    "\n",
    "manager.run(\"Create a code for a face detector using my camera, show me it in display and it must run by 30 sec and end.\")"
   ]
  },
  {
   "cell_type": "code",
   "execution_count": null,
   "metadata": {},
   "outputs": [],
   "source": [
    "manager.run(\"Improve the display of the app with better visual design, such as counting faces and coloring the inner faces of the box and adding opacity to it.\")"
   ]
  },
  {
   "cell_type": "code",
   "execution_count": null,
   "metadata": {},
   "outputs": [],
   "source": [
    "manager.run(\"All code before, document the code and explain it\")"
   ]
  }
 ],
 "metadata": {
  "kernelspec": {
   "display_name": "ws-multiagent-workshop",
   "language": "python",
   "name": "python3"
  },
  "language_info": {
   "codemirror_mode": {
    "name": "ipython",
    "version": 3
   },
   "file_extension": ".py",
   "mimetype": "text/x-python",
   "name": "python",
   "nbconvert_exporter": "python",
   "pygments_lexer": "ipython3",
   "version": "3.11.5"
  }
 },
 "nbformat": 4,
 "nbformat_minor": 2
}
