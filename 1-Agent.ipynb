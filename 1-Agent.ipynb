{
 "cells": [
  {
   "cell_type": "code",
   "execution_count": 18,
   "metadata": {},
   "outputs": [
    {
     "name": "stdout",
     "output_type": "stream",
     "text": [
      "Hello! How can I assist you today?\n"
     ]
    }
   ],
   "source": [
    "from openai import OpenAI\n",
    "from dotenv import load_dotenv\n",
    "from abc import ABC, abstractmethod\n",
    "load_dotenv()\n",
    "\n",
    "client = OpenAI()\n",
    "\n",
    "class Agent(ABC):\n",
    "    \n",
    "    def __init__(self, model = None) -> None:\n",
    "        self.memory = []\n",
    "        self.model = model\n",
    "    \n",
    "    def add_to_memory(self, role, message):\n",
    "        self.memory.append({\"role\": role, \"content\": message})\n",
    "    \n",
    "    @abstractmethod\n",
    "    def run(self,prompt):\n",
    "        \"\"\"User must define this method. Run the agent\"\"\"\n",
    "    \n",
    "class ConversationAgent(Agent):\n",
    "    \n",
    "    def __init__(self, model = None) -> None:\n",
    "        super().__init__(model)\n",
    "    \n",
    "    def run(self,prompt):\n",
    "\n",
    "        self.add_to_memory(\"user\", prompt)\n",
    "        \n",
    "        chat_completion = client.chat.completions.create(\n",
    "            messages=self.memory,\n",
    "            model=self.model,\n",
    "        )\n",
    "        response=chat_completion.choices[0].message.content\n",
    "        \n",
    "        self.add_to_memory(\"assistant\", response)\n",
    "        \n",
    "        return response\n",
    "    \n",
    "agent=ConversationAgent(model=\"gpt-4\")\n",
    "\n",
    "print(agent.run(\"Hello!\"))"
   ]
  }
 ],
 "metadata": {
  "kernelspec": {
   "display_name": "ws-multiagent-workshop",
   "language": "python",
   "name": "python3"
  },
  "language_info": {
   "codemirror_mode": {
    "name": "ipython",
    "version": 3
   },
   "file_extension": ".py",
   "mimetype": "text/x-python",
   "name": "python",
   "nbconvert_exporter": "python",
   "pygments_lexer": "ipython3",
   "version": "3.11.5"
  }
 },
 "nbformat": 4,
 "nbformat_minor": 2
}
