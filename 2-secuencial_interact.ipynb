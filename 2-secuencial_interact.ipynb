{
 "cells": [
  {
   "cell_type": "markdown",
   "metadata": {},
   "source": [
    "# 2- Comunicación Secuencial"
   ]
  },
  {
   "cell_type": "markdown",
   "metadata": {},
   "source": [
    "Ejemplo utiliza la clase `ConversationAgent`, la cual es una subclase de `Agent`, para demostrar una interacción entre agentes, que al mismo tiempo se ejemplifica interaccion conversacional de llamada de LLM a OpenAI. En este ejemplo se crean tres instancias de `ConversationAgent`, cada una con una finalidad específica."
   ]
  },
  {
   "cell_type": "markdown",
   "metadata": {},
   "source": [
    "## 2.1 - Importaciones y configuraciones"
   ]
  },
  {
   "cell_type": "code",
   "execution_count": 1,
   "metadata": {},
   "outputs": [],
   "source": [
    "import os\n",
    "from typing import Optional\n",
    "from openai import OpenAI\n",
    "from dotenv import load_dotenv\n",
    "from abc import ABC, abstractmethod\n",
    "load_dotenv()\n",
    "\n",
    "client = OpenAI()"
   ]
  },
  {
   "cell_type": "markdown",
   "metadata": {},
   "source": [
    "## 2.2 - Definición de clases"
   ]
  },
  {
   "cell_type": "code",
   "execution_count": 2,
   "metadata": {},
   "outputs": [],
   "source": [
    "\n",
    "\n",
    "class Agent(ABC):\n",
    "    \n",
    "    def __init__(self, \n",
    "        model: Optional[str] = None, \n",
    "        system_prompt: Optional[str] = None\n",
    "    ) -> None:\n",
    "        \n",
    "        model = model if model else os.getenv(\"OPENAI_DEFAULT_MODEL\")\n",
    "        \n",
    "        self.memory = []\n",
    "        self.model = model\n",
    "        \n",
    "        if system_prompt:\n",
    "            self.memory.append({\"role\": \"system\", \"content\": system_prompt})\n",
    "    \n",
    "    def add_to_memory(self, role, message):\n",
    "        self.memory.append({\"role\": role, \"content\": message})\n",
    "\n",
    "    def get_schema(self):\n",
    "        return self.function\n",
    "        \n",
    "    @abstractmethod\n",
    "    def run(self,prompt):\n",
    "        \"\"\"User must define this method. Run the agent\"\"\"\n",
    "    \n",
    "class ConversationAgent(Agent):\n",
    "    \n",
    "    def __init__(self, \n",
    "        model: Optional[str] = None, \n",
    "        system_prompt: Optional[str] = None,\n",
    "        agent_name: Optional[str] = None,\n",
    "        description: Optional[str] = None\n",
    "    ) -> None:\n",
    "        super().__init__(model,system_prompt)\n",
    "\n",
    "        self.agent_name = agent_name\n",
    "        self.description = description\n",
    "\n",
    "        self.function={\n",
    "            \"name\": self.agent_name,\n",
    "            \"description\": self.description,\n",
    "            \"parameters\": {\n",
    "                \"type\": \"object\",\n",
    "                \"properties\": {\n",
    "                    \"user_prompt\": {\n",
    "                        \"type\": \"string\",\n",
    "                        \"description\": \"User prompt to the agent\"\n",
    "                    }\n",
    "                },\n",
    "                \"required\": [\"user_query\"]\n",
    "            }\n",
    "        }\n",
    "        \n",
    "    def run(self,prompt):\n",
    "\n",
    "        self.add_to_memory(\"user\", prompt)\n",
    "        completion=''\n",
    "        stream = client.chat.completions.create(\n",
    "            messages=self.memory,\n",
    "            model=self.model,\n",
    "            stream=True\n",
    "        )\n",
    "        print(f\"\\n{self.agent_name}:\")\n",
    "        for chunk in stream:\n",
    "            text_chunk=chunk.choices[0].delta.content\n",
    "            if text_chunk:\n",
    "                completion+=text_chunk\n",
    "                #print(text_chunk, end='', flush=True)\n",
    "        \n",
    "        self.add_to_memory(\"assistant\", completion)\n",
    "        \n",
    "        return completion"
   ]
  },
  {
   "cell_type": "markdown",
   "metadata": {},
   "source": [
    "## 2.3 - Configuración de los agentes"
   ]
  },
  {
   "cell_type": "markdown",
   "metadata": {},
   "source": [
    "Se configuran los siguientes agentes:\n",
    "\n",
    "1. `Emotion`: Esta instancia se configura para actuar como un experto en emociones que puede analizar sentimientos a partir de un texto proporcionado.\n",
    "\n",
    "2. `Facts`: Esta instancia se configura para actuar como un experto en discursos presidenciales que puede analizar los aspectos técnicos o factuales de un discurso.\n",
    "\n",
    "3. `Helper`: Esta instancia parece diseñada para recibir un discurso y utilizar la información de las instancias `Emotion` y `Facts` para mejorar el discurso proporcionado."
   ]
  },
  {
   "cell_type": "code",
   "execution_count": 3,
   "metadata": {},
   "outputs": [],
   "source": [
    "#Define the agents\n",
    "Emotion = ConversationAgent(\n",
    "    model=\"gpt-3.5-turbo\", \n",
    "    agent_name=\"Emotion Agent\",\n",
    "    system_prompt=\"You are a emocional expert. Your abstract text receipt analyzes feelings. Think step by step\")\n",
    "\n",
    "Facts = ConversationAgent(\n",
    "    model=\"gpt-3.5-turbo\", \n",
    "    agent_name=\"Facts Agent\",\n",
    "    system_prompt=\"You are an expert in presidential speeches. Analyse the speech. Think step by step\")\n",
    "\n",
    "Helper = ConversationAgent(\n",
    "    model=\"gpt-4\", \n",
    "    agent_name=\"Helper Agent\",\n",
    "    system_prompt=\"You receive a [SPEECH] from the user. Use [Emotion] and [Analysis] information to improve the user's speech [SPEECH]. Response only with the new improve speech\")"
   ]
  },
  {
   "cell_type": "markdown",
   "metadata": {},
   "source": [
    "## 2.4- Ejecutar agentes"
   ]
  },
  {
   "cell_type": "code",
   "execution_count": 4,
   "metadata": {},
   "outputs": [
    {
     "name": "stdout",
     "output_type": "stream",
     "text": [
      "---> User:\n",
      "\n",
      "\n",
      "Mis queridos ¿cómo están?, bueno, eso no importa mucho en este momento. Bueno, digamos que estamos aquí porque toca hablar, aunque en realidad hay cosas más interesantes que podría estar haciendo.\n",
      "\n",
      "Vamos a hablar sobre el estado de nuestro país, que, digamos, va bien o mal, depende de cómo lo mires. Hay cosas que se supone que debo decir, pero, sinceramente, ni yo mismo creo en todas ellas. Se nos viene un año bastante regular, pero no se preocupen, no es tan distinto de todos los otros años, ¿no?\n",
      "\n",
      "Tenemos unos planes para mejorar las cosas, aunque, entre nosotros, sabemos que la mayoría de esos planes no van a llegar a ningún lado. Y sí, hay problemas, vaya que los hay, pero no son tan graves si te acostumbras, o si no piensas mucho en ellos.\n",
      "\n",
      "Sabemos que hay gente que está teniendo problemas con el empleo, la salud y la educación, pero, eh, siempre ha sido así, ¿verdad? Estamos trabajando en ello, al menos eso es lo que el papel aquí dice. Tenemos proyectos para... bueno, para muchas cosas. A veces me pierdo con tantos nombres y estadísticas. Lo importante es que suena como que estamos haciendo algo.\n",
      "\n",
      "Habrá quienes digan que deberíamos preocuparnos por el medio ambiente o algo así, pero bueno, esos temas no son tan urgentes. Necesitamos enfocarnos en lo inmediato, que es... ah, sí, asegurarnos de que se mantenga todo más o menos como está.\n",
      "\n",
      "No olviden votarnos en las próximas elecciones, porque realmente necesitamos seguir aquí para... mantener las cosas bajo control, supongo. Y recuerden, no importa lo que pase, les diré que todo es parte del plan.\n",
      "\n",
      "Gracias por escuchar, o no, da lo mismo.\n",
      "\n",
      "\n",
      "\n",
      "Emotion Agent:\n",
      "---> emotion_response:\n",
      "\n",
      "En este texto, el hablante muestra una actitud desinteresada e incluso desmotivada. Hay una falta de entusiasmo por hablar sobre el estado del país y la eficacia de los planes propuestos. El hablante reconoce los problemas existentes pero parece minimizar su importancia y sugiere que es normal o común. También muestra una falta de preocupación por asuntos urgentes como el medio ambiente. Además, el hablante menciona la importancia de votarlos en las próximas elecciones, pero lo hace de manera apática y sin ofrecer razones sólidas para hacerlo. En general, el tono del hablante refleja una actitud negativa y poco comprometida hacia las situaciones y los problemas planteados.\n",
      "\n",
      "\n",
      "Facts Agent:\n",
      "---> facts_response:\n",
      "\n",
      "In this speech, the speaker begins by acknowledging the audience and humorously stating that their well-being is not important in the current context. This establishes a casual and somewhat dismissive tone from the beginning.\n",
      "\n",
      "The speaker then mentions the purpose of the speech, which is to discuss the state of the country. However, they quickly admit that it can be interpreted as either positive or negative depending on one's perspective. This suggests a level of uncertainty or ambivalence on the part of the speaker.\n",
      "\n",
      "The speaker goes on to acknowledge their obligation to say certain things, but also insinuates that they do not fully believe in them. This hints at a lack of sincerity and raises doubts about the speaker's trustworthiness. The tone becomes somewhat sarcastic as they mention that the upcoming year will be no different from previous ones.\n",
      "\n",
      "Next, the speaker addresses the country's problems, such as employment, healthcare, and education. They downplay the severity of these issues by suggesting that they are manageable if people become accustomed to them or simply ignore them. This dismissive attitude undermines the importance of addressing these problems seriously.\n",
      "\n",
      "The speaker admits that many of the proposed plans to improve the country's situation might not be implemented successfully. This hints at a lack of competence or commitment on the part of the government.\n",
      "\n",
      "When addressing concerns about the environment, the speaker trivializes the issue by suggesting that it is not urgent. This displays a disregard for environmental matters and undermines their importance.\n",
      "\n",
      "Towards the end of the speech, the speaker explicitly requests the audience's vote in the upcoming elections, implying that they want to maintain their position of power. They offer no compelling reasons for why they should be re-elected, and instead vaguely mention the need to \"keep things under control.\"\n",
      "\n",
      "Overall, this speech conveys a lack of sincerity, a dismissive attitude towards pressing issues, and a seemingly self-interested motive for staying in power. It fails to inspire confidence in the audience and may leave them feeling disillusioned or skeptical about the government's ability to address their concerns.\n",
      "\n",
      "\n",
      "Helper Agent:\n",
      "---> helper_response:\n",
      "\n",
      "Mis queridos compatriotas, agradezco su presencia y espero que todos se encuentren bien. Nos encontramos aquí hoy, no porque simplemente tengamos que hablar, sino porque es vital comunicarnos sobre el estado de nuestro país.\n",
      "\n",
      "Hablemos sobre la condición de nuestra nación. Hay perspectivas positivas en la que se ve mejoría, y otras no tan favorables. Esta diversidad de opiniones nos aporta valiosas visiones y nos es útil para poder construir un mejor futuro.\n",
      "\n",
      "Reconozco que hay situaciones complejas que afrontaremos este año, pero es esencial recordar que cada año trae su propio conjunto de retos y oportunidades. Si lo enfrentamos juntos, podremos convertir eso que parece regular, en un camino positivo hacia adelante.\n",
      "\n",
      "En cuanto a nuestros planes para la mejora del país, aunque sabemos que habrá dificultades, trabajaremos para que sean más que solo propuestas y se conviertan en acciones concretas. Tenemos desafíos, por supuesto, pero los superaremos con esfuerzo y resiliencia.\n",
      "\n",
      "Somos conscientes de los problemas actuales: empleo, salud, educación; y queremos que sepas que estos temas están en nuestra agenda prioritaria. No es evidente, es crucial. Estamos comprometidos a trabajar diligentemente en soluciones tangibles y significativas.\n",
      "\n",
      "Entendemos la importancia del medio ambiente y creemos en su necesidad inmediata de atención. Esta no es una prioridad secundaria, sino que forma parte esencial para el fortalecimiento de nuestro presente y seguridad de nuestro futuro.\n",
      "\n",
      "Frente a las próximas elecciones, les pido su apoyo no solo para mantenernos en el poder sino para poder continuar con los esfuerzos que estamos haciendo para mejorar la vida de todos nosotros.\n",
      "\n",
      "Sigamos trabajando juntos, cada paso que hacemos tiene una razón, cada acción debe ser considerada como parte de un plan más amplio cuyo finalidad es mejorar nuestro país. \n",
      "\n",
      "Agradezco su tiempo y atención, porque cada voz cuenta en este diálogo que solo puede fortalecernos como nación.\n",
      "\n"
     ]
    }
   ],
   "source": [
    "\n",
    "# Define una solicitud de usuario más detallada para una tarea específica.\n",
    "user_request = \"\"\"\n",
    "Mis queridos ¿cómo están?, bueno, eso no importa mucho en este momento. Bueno, digamos que estamos aquí porque toca hablar, aunque en realidad hay cosas más interesantes que podría estar haciendo.\n",
    "\n",
    "Vamos a hablar sobre el estado de nuestro país, que, digamos, va bien o mal, depende de cómo lo mires. Hay cosas que se supone que debo decir, pero, sinceramente, ni yo mismo creo en todas ellas. Se nos viene un año bastante regular, pero no se preocupen, no es tan distinto de todos los otros años, ¿no?\n",
    "\n",
    "Tenemos unos planes para mejorar las cosas, aunque, entre nosotros, sabemos que la mayoría de esos planes no van a llegar a ningún lado. Y sí, hay problemas, vaya que los hay, pero no son tan graves si te acostumbras, o si no piensas mucho en ellos.\n",
    "\n",
    "Sabemos que hay gente que está teniendo problemas con el empleo, la salud y la educación, pero, eh, siempre ha sido así, ¿verdad? Estamos trabajando en ello, al menos eso es lo que el papel aquí dice. Tenemos proyectos para... bueno, para muchas cosas. A veces me pierdo con tantos nombres y estadísticas. Lo importante es que suena como que estamos haciendo algo.\n",
    "\n",
    "Habrá quienes digan que deberíamos preocuparnos por el medio ambiente o algo así, pero bueno, esos temas no son tan urgentes. Necesitamos enfocarnos en lo inmediato, que es... ah, sí, asegurarnos de que se mantenga todo más o menos como está.\n",
    "\n",
    "No olviden votarnos en las próximas elecciones, porque realmente necesitamos seguir aquí para... mantener las cosas bajo control, supongo. Y recuerden, no importa lo que pase, les diré que todo es parte del plan.\n",
    "\n",
    "Gracias por escuchar, o no, da lo mismo.\n",
    "\"\"\"\n",
    "\n",
    "print(f\"---> User:\\n\\n{user_request}\\n\")\n",
    "\n",
    "emotion_response = Emotion.run(user_request)\n",
    "print(f\"---> emotion_response:\\n\\n{emotion_response}\\n\")\n",
    "\n",
    "facts_response = Facts.run(user_request)\n",
    "print(f\"---> facts_response:\\n\\n{facts_response}\\n\")\n",
    "\n",
    "helper_response = Helper.run(f'[SPEECH]\\n{user_request}\\n\\n\\n[Emotion]\\n{emotion_response}\\n\\n\\n[Analysis]\\n{facts_response}')\n",
    "print(f\"---> helper_response:\\n\\n{helper_response}\\n\")\n",
    "\n",
    "\n"
   ]
  }
 ],
 "metadata": {
  "kernelspec": {
   "display_name": "ws-multiagent-workshop",
   "language": "python",
   "name": "python3"
  },
  "language_info": {
   "codemirror_mode": {
    "name": "ipython",
    "version": 3
   },
   "file_extension": ".py",
   "mimetype": "text/x-python",
   "name": "python",
   "nbconvert_exporter": "python",
   "pygments_lexer": "ipython3",
   "version": "3.11.5"
  }
 },
 "nbformat": 4,
 "nbformat_minor": 2
}
